{
 "cells": [
  {
   "cell_type": "code",
   "execution_count": 1,
   "id": "58b2a9f0",
   "metadata": {},
   "outputs": [],
   "source": [
    "from fun.selection_of_ROIs import *\n",
    "\n",
    "import warnings\n",
    "warnings.filterwarnings(\"ignore\")"
   ]
  },
  {
   "cell_type": "markdown",
   "id": "f4fbbdc8",
   "metadata": {},
   "source": [
    "## 1. Specify the folders that will be processed and clean them (remove precedent processing results)"
   ]
  },
  {
   "cell_type": "code",
   "execution_count": 2,
   "id": "85c8a7be",
   "metadata": {},
   "outputs": [],
   "source": [
    "0/0\n",
    "# 1. select all the fresh measurements\n",
    "# data_folder_path = './data/fixation_over_time'\n",
    "data_folder_path = './data/fixation_over_time'\n",
    "\n",
    "path_folder_temp = './temp'\n",
    "path_align_folder = './alignment/to_align'\n",
    "base_dirs = []\n",
    "\n",
    "for folder in os.listdir(data_folder_path):\n",
    "    if 'T0_' in folder:\n",
    "        base_dirs.append(os.path.join(data_folder_path, folder))\n",
    "        \n",
    "    # 2. remove previously acquired data to allow the selection of new ROIs\n",
    "    path_results = os.path.join(data_folder_path, folder, 'polarimetry/550nm/50x50_images')\n",
    "    for filename in os.listdir(path_results):\n",
    "        file_path = os.path.join(path_results, filename)\n",
    "        try:\n",
    "            if os.path.isfile(file_path) or os.path.islink(file_path):\n",
    "                os.unlink(file_path)\n",
    "            elif os.path.isdir(file_path):\n",
    "                shutil.rmtree(file_path)\n",
    "        except Exception as e:\n",
    "            print('Failed to delete %s. Reason: %s' % (file_path, e))\n",
    "                \n",
    "# 3. clean the alignment folder\n",
    "for fname in os.listdir(path_align_folder):\n",
    "    file_path = os.path.join(path_align_folder, fname)\n",
    "    try:\n",
    "        if os.path.isfile(file_path) or os.path.islink(file_path):\n",
    "            os.unlink(file_path)\n",
    "        elif os.path.isdir(file_path):\n",
    "            shutil.rmtree(file_path)\n",
    "    except Exception as e:\n",
    "        print('Failed to delete %s. Reason: %s' % (file_path, e))"
   ]
  },
  {
   "cell_type": "markdown",
   "id": "252563fe",
   "metadata": {},
   "source": [
    "## 2. Loop over all the folders that will be processed"
   ]
  },
  {
   "cell_type": "markdown",
   "id": "63082524",
   "metadata": {},
   "source": [
    "#### 2.1. set global variables (such as the number of squares)"
   ]
  },
  {
   "cell_type": "code",
   "execution_count": 3,
   "id": "8ea48c49",
   "metadata": {},
   "outputs": [],
   "source": [
    "# to perform propagation\n",
    "# number_of_random_squares = 25\n",
    "number_of_random_squares = 25\n",
    "fixation = True\n",
    "wavelength = '550'\n",
    "square_size = 20\n",
    "square_number = 1\n",
    "type_rec_sq = 'square'\n",
    "\n",
    "# for the propagation data collection\n",
    "new_folder_names = ['-T0-D12_', '-T0-D24_', '-T0-D36_', '-T0-D48_', '-T0-D7d_']\n",
    "new_dates = ['2022-05-03', '2022-05-03', '2022-05-04', '2022-05-04', '2022-05-11']\n",
    "old_folder_name = '-T0_'\n",
    "old_date = '2022-05-02'"
   ]
  },
  {
   "cell_type": "markdown",
   "id": "b1501da5",
   "metadata": {},
   "source": [
    "#### 2.2. loop over all the folders that needs to be processed"
   ]
  },
  {
   "cell_type": "code",
   "execution_count": 4,
   "id": "722f21af",
   "metadata": {},
   "outputs": [
    {
     "name": "stderr",
     "output_type": "stream",
     "text": [
      "100%|█████████████████████████████████████████████████████████████████████████████████| 4/4 [1:00:56<00:00, 914.09s/it]\n"
     ]
    },
    {
     "data": {
      "image/png": "[encoded data removed]",
      "text/plain": [
       "<Figure size 640x480 with 1 Axes>"
      ]
     },
     "metadata": {},
     "output_type": "display_data"
    }
   ],
   "source": [
    "# tissue_types = ['WM', 'GM']\n",
    "tissue_types = ['WM', 'GM']\n",
    "for path_folder in tqdm(base_dirs):\n",
    "    for tissue_type in tissue_types:\n",
    "        \n",
    "        # 1. set up the parameters and load the Mueller Matrix\n",
    "        WM = tissue_type == 'WM'\n",
    "        mask_matter, grid = get_mask_matter_and_grid(path_folder, tissue_type)\n",
    "        MM_maps = load_data_mm(path_folder, wavelength)[:-1]\n",
    "        mat = load_data_mm(path_folder, wavelength)[-1]\n",
    "        path_folder_50x50 = path_folder + '/polarimetry/' + str(wavelength) + 'nm/50x50_images/'\n",
    "        folder_name = path_folder.split('\\\\')[-1]\n",
    "        if WM:\n",
    "            new_folder_name = 'WM_1'\n",
    "        else:\n",
    "            new_folder_name = 'GM_1'\n",
    "        propagated = False\n",
    "        \n",
    "        # 2. automatic selection and preparation for the propagation of the ROIs\n",
    "        propagation_list = square_selection(path_folder_temp, path_folder, path_folder_50x50, folder_name, wavelength, \n",
    "                     number_of_random_squares, square_size, type_rec_sq, WM, mask_matter, grid, \n",
    "                     MM_maps, mat)\n",
    "        \n",
    "        \n",
    "        # 3. actually do the alignment\n",
    "        propagation_list = generate_combined_mask(propagation_list)\n",
    "        do_alignment()\n",
    "        output_folders = move_computed_folders()\n",
    "        \n",
    "        # 4. and collect the data after propagation\n",
    "        collect_data_propagated(WM, new_folder_names, new_dates, old_folder_name, old_date, path_folder, \n",
    "                        propagation_list, output_folders)"
   ]
  },
  {
   "cell_type": "code",
   "execution_count": null,
   "id": "1e0a8465",
   "metadata": {},
   "outputs": [],
   "source": []
  }
 ],
 "metadata": {
  "kernelspec": {
   "display_name": "Python 3 (ipykernel)",
   "language": "python",
   "name": "python3"
  },
  "language_info": {
   "codemirror_mode": {
    "name": "ipython",
    "version": 3
   },
   "file_extension": ".py",
   "mimetype": "text/x-python",
   "name": "python",
   "nbconvert_exporter": "python",
   "pygments_lexer": "ipython3",
   "version": "3.9.13"
  }
 },
 "nbformat": 4,
 "nbformat_minor": 5
}
