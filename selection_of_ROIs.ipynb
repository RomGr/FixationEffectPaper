{
 "cells": [
  {
   "cell_type": "code",
   "execution_count": 1,
   "id": "58b2a9f0",
   "metadata": {},
   "outputs": [],
   "source": [
    "from fun.selection_of_ROIs import *\n",
    "\n",
    "import warnings\n",
    "warnings.filterwarnings(\"ignore\")"
   ]
  },
  {
   "cell_type": "markdown",
   "id": "f4fbbdc8",
   "metadata": {},
   "source": [
    "## 1. Specify the folders that will be processed and clean them (remove precedent processing results)"
   ]
  },
  {
   "cell_type": "code",
   "execution_count": 2,
   "id": "85c8a7be",
   "metadata": {},
   "outputs": [],
   "source": [
    "# 1. select all the fresh measurements\n",
    "data_folder_path = './data/fixation_over_time'\n",
    "path_folder_temp = './temp'\n",
    "path_align_folder = './alignment/to_align'\n",
    "base_dirs = []\n",
    "\n",
    "for folder in os.listdir(data_folder_path):\n",
    "    if 'T0_' in folder:\n",
    "        base_dirs.append(os.path.join(data_folder_path, folder))\n",
    "        \n",
    "    # 2. remove previously acquired data to allow the selection of new ROIs\n",
    "    path_results = os.path.join(data_folder_path, folder, 'polarimetry/550nm/50x50_images')\n",
    "    for filename in os.listdir(path_results):\n",
    "        file_path = os.path.join(path_results, filename)\n",
    "        try:\n",
    "            if os.path.isfile(file_path) or os.path.islink(file_path):\n",
    "                os.unlink(file_path)\n",
    "            elif os.path.isdir(file_path):\n",
    "                shutil.rmtree(file_path)\n",
    "        except Exception as e:\n",
    "            print('Failed to delete %s. Reason: %s' % (file_path, e))\n",
    "                \n",
    "# 3. clean the alignment folder\n",
    "for fname in os.listdir(path_align_folder):\n",
    "    file_path = os.path.join(path_align_folder, fname)\n",
    "    try:\n",
    "        if os.path.isfile(file_path) or os.path.islink(file_path):\n",
    "            os.unlink(file_path)\n",
    "        elif os.path.isdir(file_path):\n",
    "            shutil.rmtree(file_path)\n",
    "    except Exception as e:\n",
    "        print('Failed to delete %s. Reason: %s' % (file_path, e))"
   ]
  },
  {
   "cell_type": "markdown",
   "id": "252563fe",
   "metadata": {},
   "source": [
    "## 2. Loop over all the folders that will be processed"
   ]
  },
  {
   "cell_type": "markdown",
   "id": "63082524",
   "metadata": {},
   "source": [
    "#### 2.1. set global variables (such as the number of squares)"
   ]
  },
  {
   "cell_type": "code",
   "execution_count": 3,
   "id": "8ea48c49",
   "metadata": {},
   "outputs": [],
   "source": [
    "# to perform propagation\n",
    "number_of_random_squares = 25\n",
    "fixation = True\n",
    "wavelength = '550'\n",
    "square_size = 20\n",
    "square_number = 1\n",
    "type_rec_sq = 'square'\n",
    "\n",
    "# for the propagation data collection\n",
    "new_folder_names = ['-T0-D12_', '-T0-D24_', '-T0-D36_', '-T0-D48_', '-T0-D7d_']\n",
    "new_dates = ['2022-05-03', '2022-05-03', '2022-05-04', '2022-05-04', '2022-05-11']\n",
    "old_folder_name = '-T0_'\n",
    "old_date = '2022-05-02'"
   ]
  },
  {
   "cell_type": "markdown",
   "id": "b1501da5",
   "metadata": {},
   "source": [
    "#### 2.2. loop over all the folders that needs to be processed"
   ]
  },
  {
   "cell_type": "code",
   "execution_count": null,
   "id": "bc595d78",
   "metadata": {},
   "outputs": [
    {
     "name": "stderr",
     "output_type": "stream",
     "text": [
      " 75%|██████████████████████████████████████████████████████████████▎                    | 3/4 [39:00<13:03, 783.94s/it]"
     ]
    }
   ],
   "source": [
    "# tissue_types = ['WM', 'GM']\n",
    "tissue_types = ['WM', 'GM']\n",
    "for path_folder in tqdm(base_dirs):\n",
    "    for tissue_type in tissue_types:\n",
    "        \n",
    "        # 1. set up the parameters and load the Mueller Matrix\n",
    "        WM = tissue_type == 'WM'\n",
    "        mask_matter, grid = get_mask_matter_and_grid(path_folder, tissue_type)\n",
    "        MM_maps = load_data_mm(path_folder, wavelength)[:-1]\n",
    "        mat = load_data_mm(path_folder, wavelength)[-1]\n",
    "        path_folder_50x50 = path_folder + '/polarimetry/' + str(wavelength) + 'nm/50x50_images/'\n",
    "        folder_name = path_folder.split('\\\\')[-1]\n",
    "        if WM:\n",
    "            new_folder_name = 'WM_1'\n",
    "        else:\n",
    "            new_folder_name = 'GM_1'\n",
    "        propagated = False\n",
    "        \n",
    "        # 2. automatic selection and preparation for the propagation of the ROIs\n",
    "        propagation_list = square_selection(path_folder_temp, path_folder, path_folder_50x50, folder_name, wavelength, \n",
    "                     number_of_random_squares, square_size, type_rec_sq, WM, mask_matter, grid, \n",
    "                     MM_maps, mat)\n",
    "        \n",
    "        \n",
    "        # 3. actually do the alignment\n",
    "        propagation_list = generate_combined_mask(propagation_list)\n",
    "        do_alignment()\n",
    "        output_folders = move_computed_folders()\n",
    "        \n",
    "        # 4. and collect the data after propagation\n",
    "        collect_data_propagated(WM, new_folder_names, new_dates, old_folder_name, old_date, path_folder, \n",
    "                        propagation_list, output_folders)"
   ]
  },
  {
   "cell_type": "markdown",
   "id": "69e750a1",
   "metadata": {},
   "source": [
    "## 3. Show the histograms (Figure 2 for the paper)"
   ]
  },
  {
   "cell_type": "code",
   "execution_count": null,
   "id": "4419f83d",
   "metadata": {},
   "outputs": [],
   "source": [
    "folder = r'./data/fixation_over_time'\n",
    "new_folder_name = 'WM_1'"
   ]
  },
  {
   "cell_type": "code",
   "execution_count": null,
   "id": "14b49416",
   "metadata": {},
   "outputs": [],
   "source": [
    "mat"
   ]
  },
  {
   "cell_type": "code",
   "execution_count": null,
   "id": "15efadbb",
   "metadata": {},
   "outputs": [],
   "source": [
    "for f in [os.listdir(folder)[0], os.listdir(folder)[8]]:\n",
    "    \n",
    "    if 'T0_' in f:\n",
    "        \n",
    "        path_res = os.path.join(folder, f, 'polarimetry', str(wavelength) + 'nm', '50x50_images', new_folder_name)\n",
    "        mat = load_data_mm(os.path.join(folder, f), wavelength)[-1]\n",
    "        \n",
    "        with open(os.path.join(path_res, 'coordinates.txt')) as f:\n",
    "            coordinates = f.readlines()\n",
    "\n",
    "        xs, ys = [], []\n",
    "        for idx, coord in enumerate(coordinates):\n",
    "            num_coord = int(coord.replace('\\n', ''))\n",
    "            if idx <= 1:\n",
    "                ys.append(num_coord)\n",
    "            else:\n",
    "                xs.append(num_coord)\n",
    "        data_all = parameters_histograms(mat, xs, ys, path_res)\n",
    "    \n",
    "    else:\n",
    "        \n",
    "        path_res = os.path.join(folder, f, 'polarimetry', str(wavelength) + 'nm', '50x50_images', new_folder_name + '_align')\n",
    "        with open(os.path.join(path_res, 'data_raw.pickle'), 'rb') as handle:\n",
    "            raw_data = pickle.load(handle)"
   ]
  },
  {
   "cell_type": "code",
   "execution_count": null,
   "id": "ed9a2572",
   "metadata": {},
   "outputs": [],
   "source": [
    "linear_retardance_before = data_all['Linear retardance (°)']\n",
    "linear_retardance_after = raw_data[0][0][3]\n",
    "\n",
    "depolarization_before = data_all['Depolarization']\n",
    "depolarization_after = raw_data[0][3][3]\n",
    "\n",
    "azimuth_before = data_all['Azimuth of optical axis (°)']\n",
    "azimuth_after = raw_data[0][2][3]"
   ]
  },
  {
   "cell_type": "code",
   "execution_count": null,
   "id": "a020c996",
   "metadata": {},
   "outputs": [],
   "source": [
    "keys = ['Linear retardance (°)', 'Depolarization', 'Azimuth of optical axis (°)']\n",
    "parameters = [[linear_retardance_before, linear_retardance_after], [depolarization_before, depolarization_after],\n",
    "             [azimuth_before, azimuth_after]]"
   ]
  },
  {
   "cell_type": "code",
   "execution_count": null,
   "id": "0f4686b6",
   "metadata": {},
   "outputs": [],
   "source": [
    "fig, axes = plt.subplots(nrows=3, ncols=1, figsize=(10,14))\n",
    "\n",
    "for i, key, param in zip(range(0,3), keys, parameters):\n",
    "    row = i\n",
    "    ax = axes[row]\n",
    "    \n",
    "    # change the range of the histograms\n",
    "    if key == 'Depolarization':\n",
    "        range_hist = (0.85, 1)\n",
    "    elif key == 'Linear retardance (°)':\n",
    "        range_hist = (0, 60)\n",
    "    else:\n",
    "        range_hist = (0, 180)\n",
    "        \n",
    "        \n",
    "    for idx_p, vals in enumerate(param):\n",
    "        y, x = np.histogram(\n",
    "            vals,\n",
    "            bins=50,\n",
    "            density=False,\n",
    "            range = range_hist)\n",
    "        \n",
    "        x_plot = []\n",
    "        for idx, x_ in enumerate(x):\n",
    "            try: \n",
    "                x_plot.append((x[idx] + x[idx + 1]) / 2)\n",
    "            except:\n",
    "                pass\n",
    "            \n",
    "        # get the mean, max and std\n",
    "        max_ = x[np.argmax(y)]\n",
    "        if key == 'Azimuth of optical axis (°)':\n",
    "            mean = average_angles(vals)\n",
    "            differences = []\n",
    "            for v in vals:\n",
    "                differences.append(subtract_angle(mean, v) * subtract_angle(mean, v))\n",
    "            std = np.sqrt(np.sum(differences)/len(differences))\n",
    "        else:\n",
    "            mean = np.nanmedian(vals)\n",
    "            std = np.nanstd(vals)\n",
    "        \n",
    "        if idx_p == 0:\n",
    "            mean_bf = mean\n",
    "        else:\n",
    "            mean_af = mean\n",
    "            \n",
    "        y = y / np.max(y)\n",
    "        \n",
    "        # plot the histogram\n",
    "        if idx_p == 0:\n",
    "            color = '#52a736'\n",
    "            line1, = ax.plot(x_plot, y, c = color, linewidth=3)\n",
    "        else:\n",
    "            color = '#FF3030'\n",
    "            line2, = ax.plot(x_plot, y, c = color, linewidth=3)\n",
    "\n",
    "        \n",
    "        ax.axis(ymin=0,ymax=1.5)\n",
    "        ax.locator_params(axis='y', nbins=4)\n",
    "        ax.locator_params(axis='x', nbins=5)\n",
    "        \n",
    "        \n",
    "        if idx_p == 0:\n",
    "            if key == 'Azimuth of optical axis (°)':\n",
    "                ax.text(0.70, 0.52, '$\\mu_{ROI}$' + ' = {:.2f}\\n'.format(mean) + '$\\sigma_{ROI}$' + ' = {:.2f}'.format(std), \n",
    "                    horizontalalignment='center', verticalalignment='center', transform=ax.transAxes, \n",
    "                    fontsize=24, fontweight = 'bold', c = color)\n",
    "            else:\n",
    "                if key == 'Depolarization':\n",
    "                    ax.text(0.85, 0.52, '$m_{ROI}$'+ ' = {:.2f}\\n'.format(mean) + '$\\sigma_{ROI}$'+' = {:.2f}'.format(std), \n",
    "                            horizontalalignment='center', verticalalignment='center', transform=ax.transAxes, \n",
    "                            fontsize=24, fontweight = 'bold', c = color)\n",
    "                else:\n",
    "                    ax.text(0.85, 0.52, '$m_{ROI}$'+ ' = {:.1f}\\n'.format(mean) + '$\\sigma_{ROI}$'+' = {:.1f}'.format(std), \n",
    "                            horizontalalignment='center', verticalalignment='center', transform=ax.transAxes, \n",
    "                            fontsize=24, fontweight = 'bold', c = color)\n",
    "\n",
    "        else:\n",
    "            if key == 'Azimuth of optical axis (°)':\n",
    "                ax.text(0.32, 0.54, '$\\mu_{ROI}$' + ' = {:.2f}\\n'.format(mean) + '$\\sigma_{ROI}$' + ' = {:.2f}'.format(std), \n",
    "                    horizontalalignment='center', verticalalignment='center', transform=ax.transAxes, \n",
    "                    fontsize=25, fontweight = 'bold', c = color)\n",
    "            else:\n",
    "                ax.text(0.85, 0.75, '$fc_{ROI}$'+ ' = {:.2f}\\n'.format(mean / mean_bf), \n",
    "                        horizontalalignment='center', verticalalignment='center', transform=ax.transAxes, \n",
    "                        fontsize=25, fontweight = 'bold')\n",
    "\n",
    "                if key == 'Depolarization':\n",
    "                    ax.text(0.17, 0.54, '$m_{ROI}$'+ ' = {:.2f}\\n'.format(mean) + '$\\sigma_{ROI}$'+' = {:.2f}'.format(std), \n",
    "                        horizontalalignment='center', verticalalignment='center', transform=ax.transAxes, \n",
    "                        fontsize=25, fontweight = 'bold', c = color)\n",
    "                \n",
    "                else:\n",
    "                    ax.text(0.17, 0.54, '$m_{ROI}$'+ ' = {:.1f}\\n'.format(mean) + '$\\sigma_{ROI}$'+' = {:.1f}'.format(std), \n",
    "                        horizontalalignment='center', verticalalignment='center', transform=ax.transAxes, \n",
    "                        fontsize=25, fontweight = 'bold', c = color)\n",
    "                \n",
    "            \n",
    "    for tick in ax.xaxis.get_major_ticks():\n",
    "        tick.label1.set_fontsize(28)\n",
    "        tick.label1.set_fontweight('bold')\n",
    "    for tick in ax.yaxis.get_major_ticks():\n",
    "        tick.label1.set_fontsize(28)\n",
    "        tick.label1.set_fontweight('bold')\n",
    "            \n",
    "    # ax.set_title(param[0], fontdict = {'fontsize': 30, 'fontweight': 'bold'})\n",
    "    # ax.set_ylabel('Normalized pixel number', fontdict = {'fontsize': 20, 'fontweight': 'bold'})\n",
    "        \n",
    "    # save the figures\n",
    "    plt.tight_layout()\n",
    "    legend_properties = {'weight':'bold', 'size': 25}\n",
    "\n",
    "    leg = ax.legend([line1, line2], ['Fresh tissue', 'Fixed tissue'], prop=legend_properties, loc = 2)\n",
    "    leg.get_frame().set_linewidth(0.0)\n",
    "    \n",
    "plt.savefig(os.path.join(path_res, 'summary_histo.pdf'))"
   ]
  },
  {
   "cell_type": "code",
   "execution_count": null,
   "id": "372faf2b",
   "metadata": {},
   "outputs": [],
   "source": []
  },
  {
   "cell_type": "code",
   "execution_count": null,
   "id": "66889ca4",
   "metadata": {},
   "outputs": [],
   "source": []
  },
  {
   "cell_type": "code",
   "execution_count": null,
   "id": "1707fa85",
   "metadata": {},
   "outputs": [],
   "source": []
  }
 ],
 "metadata": {
  "kernelspec": {
   "display_name": "Python 3 (ipykernel)",
   "language": "python",
   "name": "python3"
  },
  "language_info": {
   "codemirror_mode": {
    "name": "ipython",
    "version": 3
   },
   "file_extension": ".py",
   "mimetype": "text/x-python",
   "name": "python",
   "nbconvert_exporter": "python",
   "pygments_lexer": "ipython3",
   "version": "3.9.13"
  }
 },
 "nbformat": 4,
 "nbformat_minor": 5
}
